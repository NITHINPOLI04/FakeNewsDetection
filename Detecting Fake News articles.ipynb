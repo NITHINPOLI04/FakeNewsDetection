{
 "cells": [
  {
   "cell_type": "markdown",
   "id": "db3278e8-a420-4663-b668-59bcfe91f553",
   "metadata": {},
   "source": [
    "### Importing Required Libraries"
   ]
  },
  {
   "cell_type": "code",
   "execution_count": 121,
   "id": "04aa51e8-2ff4-446a-8927-a039a014701c",
   "metadata": {},
   "outputs": [],
   "source": [
    "from sklearn.feature_extraction.text import TfidfVectorizer\n",
    "from sklearn.model_selection import train_test_split\n",
    "from sklearn.ensemble import RandomForestClassifier\n",
    "from sklearn.metrics import accuracy_score, precision_score, recall_score, f1_score, roc_auc_score, roc_curve, confusion_matrix, ConfusionMatrixDisplay, precision_recall_curve\n",
    "from imblearn.over_sampling import SMOTE\n",
    "from sklearn.preprocessing import LabelEncoder\n",
    "import pandas as pd\n",
    "import numpy as np\n",
    "import re\n",
    "import matplotlib.pyplot as plt\n",
    "import seaborn as sns"
   ]
  },
  {
   "cell_type": "markdown",
   "id": "8c362834-9579-47a0-8eb4-d55f6b10acbe",
   "metadata": {},
   "source": [
    "* scikit-learn: We import various tools from scikit-learn for text feature extraction, splitting the data, creating models, and evaluating them.\n",
    "* imblearn: SMOTE is used to handle class imbalance in the dataset by oversampling the minority class.\n",
    "* pandas: For data manipulation and loading the dataset.\n",
    "* numpy: For numerical operations like matrix manipulations.\n",
    "* re: Used for preprocessing text data by removing unwanted characters.\n",
    "* matplotlib/seaborn: Used for visualizations."
   ]
  },
  {
   "cell_type": "markdown",
   "id": "b63cc1a6-b6a4-44fa-9483-b884af01d355",
   "metadata": {},
   "source": [
    "### Loading the Dataset"
   ]
  },
  {
   "cell_type": "code",
   "execution_count": 124,
   "id": "cf1ed634-09e3-4e0a-bfb7-bc30f01cfea8",
   "metadata": {},
   "outputs": [],
   "source": [
    "data = pd.read_csv(\"test.tsv\", sep='\\t')  "
   ]
  },
  {
   "cell_type": "markdown",
   "id": "f4fc8d9f-eb37-4d96-8170-8def7ec6c8ba",
   "metadata": {},
   "source": [
    "### Preprocessing Text Data"
   ]
  },
  {
   "cell_type": "code",
   "execution_count": 126,
   "id": "0b0509a7-55ec-46ca-9476-c3104ad59f1d",
   "metadata": {},
   "outputs": [],
   "source": [
    "# Preprocessing Function\n",
    "def preprocess_text(text):\n",
    "    return re.sub(r'[^a-zA-Z\\s]', '', text).lower()\n",
    "\n",
    "# Apply preprocessing\n",
    "data['title'] = data['title'].apply(preprocess_text)\n",
    "data['text'] = data['text'].apply(preprocess_text)"
   ]
  },
  {
   "cell_type": "markdown",
   "id": "42ca29a7-9fbe-4aef-a424-d85565c0ec11",
   "metadata": {},
   "source": [
    "* Preprocessing: We define a preprocess_text function to clean the text by: \r\n",
    "* Removing any characters that are not alphabets or whitespace ([^a-zA-Z\\s]).\r\n",
    "* Converting all text to lowercase to ensure consistency.\r\n",
    "* We apply this function to both the title and text columns of the dataset to clean tem\r\n",
    "m.\r\n"
   ]
  },
  {
   "cell_type": "markdown",
   "id": "fc4d21f5-dcc9-439f-8f9c-68a850d62adb",
   "metadata": {},
   "source": [
    "### Feature Engineering"
   ]
  },
  {
   "cell_type": "code",
   "execution_count": 129,
   "id": "9166d92c-beee-40d1-9eb5-48e641ad9795",
   "metadata": {},
   "outputs": [],
   "source": [
    "data['title length'] = data['title'].apply(lambda x: len(x.split()))\n",
    "data['text length'] = data['text'].apply(lambda x: len(x.split()))"
   ]
  },
  {
   "cell_type": "markdown",
   "id": "be3683bf-d4a5-4c66-b463-f293d89e086f",
   "metadata": {},
   "source": [
    "* We add new features, title length and text length, which are the number of words in the title and text columns, respectively.\r",
    "* \tThese features can help the model understand the relationship between the length of text and classification\r\n"
   ]
  },
  {
   "cell_type": "markdown",
   "id": "3f4a6b9a-20b7-46b4-a8b9-8b7fda50d780",
   "metadata": {},
   "source": [
    "### Encoding the 'subject' Column"
   ]
  },
  {
   "cell_type": "code",
   "execution_count": 132,
   "id": "ce61853f-4e0e-4747-8cb4-59ca49e049eb",
   "metadata": {},
   "outputs": [],
   "source": [
    "label_encoder = LabelEncoder()\n",
    "data['subject'] = label_encoder.fit_transform(data['subject'])"
   ]
  },
  {
   "cell_type": "markdown",
   "id": "a7aa67f4-1838-4c70-91a5-0c2fae8c6ca1",
   "metadata": {},
   "source": [
    "* The subject column is categorical, so we use Label Encoding to convert it into numerical values.\r",
    "* \tLabelEncoder transforms each unique value in the subject column into an integer.\r\n"
   ]
  },
  {
   "cell_type": "markdown",
   "id": "9d564f6e-c025-42bb-b13c-db6f2c8fd3af",
   "metadata": {},
   "source": [
    "### Splitting the Data into Training and Testing Sets"
   ]
  },
  {
   "cell_type": "code",
   "execution_count": 135,
   "id": "cd1f738f-d4f9-4a52-a0db-1040d797f789",
   "metadata": {},
   "outputs": [],
   "source": [
    "X = data[['title', 'text', 'subject', 'title length', 'text length']]\n",
    "y = data['label']\n",
    "X_train, X_test, y_train, y_test = train_test_split(X, y, test_size=0.2, random_state=42)"
   ]
  },
  {
   "cell_type": "markdown",
   "id": "f23d6f24-59c0-4f24-aaa5-e54432b78850",
   "metadata": {},
   "source": [
    "* We split the dataset into features (X) and target (y).  \r\n",
    "* X contains the title, text, subject, title length, and text length columns.\r\n",
    "* y contains the target labels (label).\r\n",
    "* We use train_test_split() to split the data into training and testing sets, with 20% allocated for testig.\r\n",
    "ng.g.\r\n"
   ]
  },
  {
   "cell_type": "markdown",
   "id": "d0de31d0-4013-4680-b45c-d8cb0987007e",
   "metadata": {},
   "source": [
    "### Vectorizing Text Features"
   ]
  },
  {
   "cell_type": "code",
   "execution_count": 138,
   "id": "8b551732-ecdc-4827-9165-ea8438daea03",
   "metadata": {},
   "outputs": [],
   "source": [
    "title_vectorizer = TfidfVectorizer(max_features=5000)\n",
    "text_vectorizer = TfidfVectorizer(max_features=5000)\n",
    "\n",
    "title_features = title_vectorizer.fit_transform(X_train['title']).toarray()\n",
    "text_features = text_vectorizer.fit_transform(X_train['text']).toarray()"
   ]
  },
  {
   "cell_type": "markdown",
   "id": "75ba4a38-ba3d-47d3-a200-3e82f6b120e4",
   "metadata": {},
   "source": [
    "*\tWe use TF-IDF (Term Frequency-Inverse Document Frequency) to convert the text data into numerical vectors.\r\n",
    "* max_features=5000 limits the features to the top 5000 words based on their importance.\r\n",
    "*\ttitle_features and text_features represent the vectorized version of the title and text columns in the training set.\r\n"
   ]
  },
  {
   "cell_type": "markdown",
   "id": "6ea7ca1f-fd72-40c8-9ec0-1c85a1409989",
   "metadata": {},
   "source": [
    "### Combining All Features"
   ]
  },
  {
   "cell_type": "code",
   "execution_count": 141,
   "id": "c43471ad-c575-4697-9619-d060f7b26315",
   "metadata": {},
   "outputs": [],
   "source": [
    "numeric_features = X_train[['subject', 'title length', 'text length']].values\n",
    "X_train_combined = np.hstack((title_features, text_features, numeric_features))"
   ]
  },
  {
   "cell_type": "markdown",
   "id": "0778f5f9-6377-49e3-b5bf-38356bced42e",
   "metadata": {},
   "source": [
    "* We combine the vectorized text features (from the title and text) with the numerical features (subject, title length, text length).\n",
    "* np.hstack() is used to horizontally stack the arrays together to form a single feature set for training.\n"
   ]
  },
  {
   "cell_type": "markdown",
   "id": "41582b1f-39c5-4985-95b4-59440bd5c19a",
   "metadata": {},
   "source": [
    "### Visualizing Class Distribution Before SMOTE"
   ]
  },
  {
   "cell_type": "code",
   "execution_count": 144,
   "id": "64484628-18d9-4c6c-bd1e-bddce251f568",
   "metadata": {},
   "outputs": [
    {
     "data": {
      "image/png": "[encoded data removed]",
      "text/plain": [
       "<Figure size 600x400 with 1 Axes>"
      ]
     },
     "metadata": {},
     "output_type": "display_data"
    }
   ],
   "source": [
    "plt.figure(figsize=(6,4))\n",
    "sns.countplot(x=y_train)\n",
    "plt.title(\"Class Distribution Before SMOTE\")\n",
    "plt.xlabel(\"Class\")\n",
    "plt.ylabel(\"Count\")\n",
    "plt.show()"
   ]
  },
  {
   "cell_type": "markdown",
   "id": "8f8427e0-7cf3-45e5-b109-11c97a8f8b3c",
   "metadata": {},
   "source": [
    "### Applying SMOTE to Handle Class Imbalance"
   ]
  },
  {
   "cell_type": "code",
   "execution_count": 146,
   "id": "64873177-374a-4cd1-8d25-4d6f30a1b82a",
   "metadata": {},
   "outputs": [],
   "source": [
    "smote = SMOTE(random_state=42)\n",
    "X_train_resampled, y_train_resampled = smote.fit_resample(X_train_combined, y_train)"
   ]
  },
  {
   "cell_type": "markdown",
   "id": "4cde68bd-bba1-4f0b-80ff-a35759cea183",
   "metadata": {},
   "source": [
    "* SMOTE is used to balance the class distribution by generating synthetic samples for the minority class.\n",
    "* This helps prevent the model from being biased towards the majority class."
   ]
  },
  {
   "cell_type": "markdown",
   "id": "67449bbf-413c-4934-b4c1-21fd89f57e3c",
   "metadata": {},
   "source": [
    "### Visualizing Class Distribution After SMOTE"
   ]
  },
  {
   "cell_type": "code",
   "execution_count": 149,
   "id": "7de3ada3-3f3b-4160-be23-961042d25954",
   "metadata": {},
   "outputs": [
    {
     "data": {
      "image/png": "[encoded data removed]",
      "text/plain": [
       "<Figure size 600x400 with 1 Axes>"
      ]
     },
     "metadata": {},
     "output_type": "display_data"
    }
   ],
   "source": [
    "plt.figure(figsize=(6,4))\n",
    "sns.countplot(x=y_train_resampled)\n",
    "plt.title(\"Class Distribution After SMOTE\")\n",
    "plt.xlabel(\"Class\")\n",
    "plt.ylabel(\"Count\")\n",
    "plt.show()"
   ]
  },
  {
   "cell_type": "markdown",
   "id": "2d6c83a3-210c-439b-989d-b657335267ca",
   "metadata": {},
   "source": [
    "### Processing Test Data"
   ]
  },
  {
   "cell_type": "code",
   "execution_count": 151,
   "id": "15fdf369-eb22-4466-b95c-401ad9810877",
   "metadata": {},
   "outputs": [],
   "source": [
    "title_features_test = title_vectorizer.transform(X_test['title']).toarray()\n",
    "text_features_test = text_vectorizer.transform(X_test['text']).toarray()\n",
    "numeric_features_test = X_test[['subject', 'title length', 'text length']].values\n",
    "X_test_combined = np.hstack((title_features_test, text_features_test, numeric_features_test))"
   ]
  },
  {
   "cell_type": "markdown",
   "id": "82f834af-a3ff-446b-9124-348a95adc694",
   "metadata": {},
   "source": [
    "* We apply the same preprocessing (vectorization) to the test data.\r\n",
    "* The test data is vectorized using the same TfidfVectorizer objects, ensuring consistency between training and testing data.\r\n"
   ]
  },
  {
   "cell_type": "markdown",
   "id": "3d4fb3a8-4a84-4ac2-8046-d8a27b371206",
   "metadata": {},
   "source": [
    "### Training the Random Forest Model"
   ]
  },
  {
   "cell_type": "code",
   "execution_count": 154,
   "id": "5d194ff2-10e9-40d3-b476-de5580c1e407",
   "metadata": {},
   "outputs": [
    {
     "data": {
      "text/html": [
       "<style>#sk-container-id-2 {\n",
       "  /* Definition of color scheme common for light and dark mode */\n",
       "  --sklearn-color-text: black;\n",
       "  --sklearn-color-line: gray;\n",
       "  /* Definition of color scheme for unfitted estimators */\n",
       "  --sklearn-color-unfitted-level-0: #fff5e6;\n",
       "  --sklearn-color-unfitted-level-1: #f6e4d2;\n",
       "  --sklearn-color-unfitted-level-2: #ffe0b3;\n",
       "  --sklearn-color-unfitted-level-3: chocolate;\n",
       "  /* Definition of color scheme for fitted estimators */\n",
       "  --sklearn-color-fitted-level-0: #f0f8ff;\n",
       "  --sklearn-color-fitted-level-1: #d4ebff;\n",
       "  --sklearn-color-fitted-level-2: #b3dbfd;\n",
       "  --sklearn-color-fitted-level-3: cornflowerblue;\n",
       "\n",
       "  /* Specific color for light theme */\n",
       "  --sklearn-color-text-on-default-background: var(--sg-text-color, var(--theme-code-foreground, var(--jp-content-font-color1, black)));\n",
       "  --sklearn-color-background: var(--sg-background-color, var(--theme-background, var(--jp-layout-color0, white)));\n",
       "  --sklearn-color-border-box: var(--sg-text-color, var(--theme-code-foreground, var(--jp-content-font-color1, black)));\n",
       "  --sklearn-color-icon: #696969;\n",
       "\n",
       "  @media (prefers-color-scheme: dark) {\n",
       "    /* Redefinition of color scheme for dark theme */\n",
       "    --sklearn-color-text-on-default-background: var(--sg-text-color, var(--theme-code-foreground, var(--jp-content-font-color1, white)));\n",
       "    --sklearn-color-background: var(--sg-background-color, var(--theme-background, var(--jp-layout-color0, #111)));\n",
       "    --sklearn-color-border-box: var(--sg-text-color, var(--theme-code-foreground, var(--jp-content-font-color1, white)));\n",
       "    --sklearn-color-icon: #878787;\n",
       "  }\n",
       "}\n",
       "\n",
       "#sk-container-id-2 {\n",
       "  color: var(--sklearn-color-text);\n",
       "}\n",
       "\n",
       "#sk-container-id-2 pre {\n",
       "  padding: 0;\n",
       "}\n",
       "\n",
       "#sk-container-id-2 input.sk-hidden--visually {\n",
       "  border: 0;\n",
       "  clip: rect(1px 1px 1px 1px);\n",
       "  clip: rect(1px, 1px, 1px, 1px);\n",
       "  height: 1px;\n",
       "  margin: -1px;\n",
       "  overflow: hidden;\n",
       "  padding: 0;\n",
       "  position: absolute;\n",
       "  width: 1px;\n",
       "}\n",
       "\n",
       "#sk-container-id-2 div.sk-dashed-wrapped {\n",
       "  border: 1px dashed var(--sklearn-color-line);\n",
       "  margin: 0 0.4em 0.5em 0.4em;\n",
       "  box-sizing: border-box;\n",
       "  padding-bottom: 0.4em;\n",
       "  background-color: var(--sklearn-color-background);\n",
       "}\n",
       "\n",
       "#sk-container-id-2 div.sk-container {\n",
       "  /* jupyter's `normalize.less` sets `[hidden] { display: none; }`\n",
       "     but bootstrap.min.css set `[hidden] { display: none !important; }`\n",
       "     so we also need the `!important` here to be able to override the\n",
       "     default hidden behavior on the sphinx rendered scikit-learn.org.\n",
       "     See: https://github.com/scikit-learn/scikit-learn/issues/21755 */\n",
       "  display: inline-block !important;\n",
       "  position: relative;\n",
       "}\n",
       "\n",
       "#sk-container-id-2 div.sk-text-repr-fallback {\n",
       "  display: none;\n",
       "}\n",
       "\n",
       "div.sk-parallel-item,\n",
       "div.sk-serial,\n",
       "div.sk-item {\n",
       "  /* draw centered vertical line to link estimators */\n",
       "  background-image: linear-gradient(var(--sklearn-color-text-on-default-background), var(--sklearn-color-text-on-default-background));\n",
       "  background-size: 2px 100%;\n",
       "  background-repeat: no-repeat;\n",
       "  background-position: center center;\n",
       "}\n",
       "\n",
       "/* Parallel-specific style estimator block */\n",
       "\n",
       "#sk-container-id-2 div.sk-parallel-item::after {\n",
       "  content: \"\";\n",
       "  width: 100%;\n",
       "  border-bottom: 2px solid var(--sklearn-color-text-on-default-background);\n",
       "  flex-grow: 1;\n",
       "}\n",
       "\n",
       "#sk-container-id-2 div.sk-parallel {\n",
       "  display: flex;\n",
       "  align-items: stretch;\n",
       "  justify-content: center;\n",
       "  background-color: var(--sklearn-color-background);\n",
       "  position: relative;\n",
       "}\n",
       "\n",
       "#sk-container-id-2 div.sk-parallel-item {\n",
       "  display: flex;\n",
       "  flex-direction: column;\n",
       "}\n",
       "\n",
       "#sk-container-id-2 div.sk-parallel-item:first-child::after {\n",
       "  align-self: flex-end;\n",
       "  width: 50%;\n",
       "}\n",
       "\n",
       "#sk-container-id-2 div.sk-parallel-item:last-child::after {\n",
       "  align-self: flex-start;\n",
       "  width: 50%;\n",
       "}\n",
       "\n",
       "#sk-container-id-2 div.sk-parallel-item:only-child::after {\n",
       "  width: 0;\n",
       "}\n",
       "\n",
       "/* Serial-specific style estimator block */\n",
       "\n",
       "#sk-container-id-2 div.sk-serial {\n",
       "  display: flex;\n",
       "  flex-direction: column;\n",
       "  align-items: center;\n",
       "  background-color: var(--sklearn-color-background);\n",
       "  padding-right: 1em;\n",
       "  padding-left: 1em;\n",
       "}\n",
       "\n",
       "\n",
       "/* Toggleable style: style used for estimator/Pipeline/ColumnTransformer box that is\n",
       "clickable and can be expanded/collapsed.\n",
       "- Pipeline and ColumnTransformer use this feature and define the default style\n",
       "- Estimators will overwrite some part of the style using the `sk-estimator` class\n",
       "*/\n",
       "\n",
       "/* Pipeline and ColumnTransformer style (default) */\n",
       "\n",
       "#sk-container-id-2 div.sk-toggleable {\n",
       "  /* Default theme specific background. It is overwritten whether we have a\n",
       "  specific estimator or a Pipeline/ColumnTransformer */\n",
       "  background-color: var(--sklearn-color-background);\n",
       "}\n",
       "\n",
       "/* Toggleable label */\n",
       "#sk-container-id-2 label.sk-toggleable__label {\n",
       "  cursor: pointer;\n",
       "  display: block;\n",
       "  width: 100%;\n",
       "  margin-bottom: 0;\n",
       "  padding: 0.5em;\n",
       "  box-sizing: border-box;\n",
       "  text-align: center;\n",
       "}\n",
       "\n",
       "#sk-container-id-2 label.sk-toggleable__label-arrow:before {\n",
       "  /* Arrow on the left of the label */\n",
       "  content: \"▸\";\n",
       "  float: left;\n",
       "  margin-right: 0.25em;\n",
       "  color: var(--sklearn-color-icon);\n",
       "}\n",
       "\n",
       "#sk-container-id-2 label.sk-toggleable__label-arrow:hover:before {\n",
       "  color: var(--sklearn-color-text);\n",
       "}\n",
       "\n",
       "/* Toggleable content - dropdown */\n",
       "\n",
       "#sk-container-id-2 div.sk-toggleable__content {\n",
       "  max-height: 0;\n",
       "  max-width: 0;\n",
       "  overflow: hidden;\n",
       "  text-align: left;\n",
       "  /* unfitted */\n",
       "  background-color: var(--sklearn-color-unfitted-level-0);\n",
       "}\n",
       "\n",
       "#sk-container-id-2 div.sk-toggleable__content.fitted {\n",
       "  /* fitted */\n",
       "  background-color: var(--sklearn-color-fitted-level-0);\n",
       "}\n",
       "\n",
       "#sk-container-id-2 div.sk-toggleable__content pre {\n",
       "  margin: 0.2em;\n",
       "  border-radius: 0.25em;\n",
       "  color: var(--sklearn-color-text);\n",
       "  /* unfitted */\n",
       "  background-color: var(--sklearn-color-unfitted-level-0);\n",
       "}\n",
       "\n",
       "#sk-container-id-2 div.sk-toggleable__content.fitted pre {\n",
       "  /* unfitted */\n",
       "  background-color: var(--sklearn-color-fitted-level-0);\n",
       "}\n",
       "\n",
       "#sk-container-id-2 input.sk-toggleable__control:checked~div.sk-toggleable__content {\n",
       "  /* Expand drop-down */\n",
       "  max-height: 200px;\n",
       "  max-width: 100%;\n",
       "  overflow: auto;\n",
       "}\n",
       "\n",
       "#sk-container-id-2 input.sk-toggleable__control:checked~label.sk-toggleable__label-arrow:before {\n",
       "  content: \"▾\";\n",
       "}\n",
       "\n",
       "/* Pipeline/ColumnTransformer-specific style */\n",
       "\n",
       "#sk-container-id-2 div.sk-label input.sk-toggleable__control:checked~label.sk-toggleable__label {\n",
       "  color: var(--sklearn-color-text);\n",
       "  background-color: var(--sklearn-color-unfitted-level-2);\n",
       "}\n",
       "\n",
       "#sk-container-id-2 div.sk-label.fitted input.sk-toggleable__control:checked~label.sk-toggleable__label {\n",
       "  background-color: var(--sklearn-color-fitted-level-2);\n",
       "}\n",
       "\n",
       "/* Estimator-specific style */\n",
       "\n",
       "/* Colorize estimator box */\n",
       "#sk-container-id-2 div.sk-estimator input.sk-toggleable__control:checked~label.sk-toggleable__label {\n",
       "  /* unfitted */\n",
       "  background-color: var(--sklearn-color-unfitted-level-2);\n",
       "}\n",
       "\n",
       "#sk-container-id-2 div.sk-estimator.fitted input.sk-toggleable__control:checked~label.sk-toggleable__label {\n",
       "  /* fitted */\n",
       "  background-color: var(--sklearn-color-fitted-level-2);\n",
       "}\n",
       "\n",
       "#sk-container-id-2 div.sk-label label.sk-toggleable__label,\n",
       "#sk-container-id-2 div.sk-label label {\n",
       "  /* The background is the default theme color */\n",
       "  color: var(--sklearn-color-text-on-default-background);\n",
       "}\n",
       "\n",
       "/* On hover, darken the color of the background */\n",
       "#sk-container-id-2 div.sk-label:hover label.sk-toggleable__label {\n",
       "  color: var(--sklearn-color-text);\n",
       "  background-color: var(--sklearn-color-unfitted-level-2);\n",
       "}\n",
       "\n",
       "/* Label box, darken color on hover, fitted */\n",
       "#sk-container-id-2 div.sk-label.fitted:hover label.sk-toggleable__label.fitted {\n",
       "  color: var(--sklearn-color-text);\n",
       "  background-color: var(--sklearn-color-fitted-level-2);\n",
       "}\n",
       "\n",
       "/* Estimator label */\n",
       "\n",
       "#sk-container-id-2 div.sk-label label {\n",
       "  font-family: monospace;\n",
       "  font-weight: bold;\n",
       "  display: inline-block;\n",
       "  line-height: 1.2em;\n",
       "}\n",
       "\n",
       "#sk-container-id-2 div.sk-label-container {\n",
       "  text-align: center;\n",
       "}\n",
       "\n",
       "/* Estimator-specific */\n",
       "#sk-container-id-2 div.sk-estimator {\n",
       "  font-family: monospace;\n",
       "  border: 1px dotted var(--sklearn-color-border-box);\n",
       "  border-radius: 0.25em;\n",
       "  box-sizing: border-box;\n",
       "  margin-bottom: 0.5em;\n",
       "  /* unfitted */\n",
       "  background-color: var(--sklearn-color-unfitted-level-0);\n",
       "}\n",
       "\n",
       "#sk-container-id-2 div.sk-estimator.fitted {\n",
       "  /* fitted */\n",
       "  background-color: var(--sklearn-color-fitted-level-0);\n",
       "}\n",
       "\n",
       "/* on hover */\n",
       "#sk-container-id-2 div.sk-estimator:hover {\n",
       "  /* unfitted */\n",
       "  background-color: var(--sklearn-color-unfitted-level-2);\n",
       "}\n",
       "\n",
       "#sk-container-id-2 div.sk-estimator.fitted:hover {\n",
       "  /* fitted */\n",
       "  background-color: var(--sklearn-color-fitted-level-2);\n",
       "}\n",
       "\n",
       "/* Specification for estimator info (e.g. \"i\" and \"?\") */\n",
       "\n",
       "/* Common style for \"i\" and \"?\" */\n",
       "\n",
       ".sk-estimator-doc-link,\n",
       "a:link.sk-estimator-doc-link,\n",
       "a:visited.sk-estimator-doc-link {\n",
       "  float: right;\n",
       "  font-size: smaller;\n",
       "  line-height: 1em;\n",
       "  font-family: monospace;\n",
       "  background-color: var(--sklearn-color-background);\n",
       "  border-radius: 1em;\n",
       "  height: 1em;\n",
       "  width: 1em;\n",
       "  text-decoration: none !important;\n",
       "  margin-left: 1ex;\n",
       "  /* unfitted */\n",
       "  border: var(--sklearn-color-unfitted-level-1) 1pt solid;\n",
       "  color: var(--sklearn-color-unfitted-level-1);\n",
       "}\n",
       "\n",
       ".sk-estimator-doc-link.fitted,\n",
       "a:link.sk-estimator-doc-link.fitted,\n",
       "a:visited.sk-estimator-doc-link.fitted {\n",
       "  /* fitted */\n",
       "  border: var(--sklearn-color-fitted-level-1) 1pt solid;\n",
       "  color: var(--sklearn-color-fitted-level-1);\n",
       "}\n",
       "\n",
       "/* On hover */\n",
       "div.sk-estimator:hover .sk-estimator-doc-link:hover,\n",
       ".sk-estimator-doc-link:hover,\n",
       "div.sk-label-container:hover .sk-estimator-doc-link:hover,\n",
       ".sk-estimator-doc-link:hover {\n",
       "  /* unfitted */\n",
       "  background-color: var(--sklearn-color-unfitted-level-3);\n",
       "  color: var(--sklearn-color-background);\n",
       "  text-decoration: none;\n",
       "}\n",
       "\n",
       "div.sk-estimator.fitted:hover .sk-estimator-doc-link.fitted:hover,\n",
       ".sk-estimator-doc-link.fitted:hover,\n",
       "div.sk-label-container:hover .sk-estimator-doc-link.fitted:hover,\n",
       ".sk-estimator-doc-link.fitted:hover {\n",
       "  /* fitted */\n",
       "  background-color: var(--sklearn-color-fitted-level-3);\n",
       "  color: var(--sklearn-color-background);\n",
       "  text-decoration: none;\n",
       "}\n",
       "\n",
       "/* Span, style for the box shown on hovering the info icon */\n",
       ".sk-estimator-doc-link span {\n",
       "  display: none;\n",
       "  z-index: 9999;\n",
       "  position: relative;\n",
       "  font-weight: normal;\n",
       "  right: .2ex;\n",
       "  padding: .5ex;\n",
       "  margin: .5ex;\n",
       "  width: min-content;\n",
       "  min-width: 20ex;\n",
       "  max-width: 50ex;\n",
       "  color: var(--sklearn-color-text);\n",
       "  box-shadow: 2pt 2pt 4pt #999;\n",
       "  /* unfitted */\n",
       "  background: var(--sklearn-color-unfitted-level-0);\n",
       "  border: .5pt solid var(--sklearn-color-unfitted-level-3);\n",
       "}\n",
       "\n",
       ".sk-estimator-doc-link.fitted span {\n",
       "  /* fitted */\n",
       "  background: var(--sklearn-color-fitted-level-0);\n",
       "  border: var(--sklearn-color-fitted-level-3);\n",
       "}\n",
       "\n",
       ".sk-estimator-doc-link:hover span {\n",
       "  display: block;\n",
       "}\n",
       "\n",
       "/* \"?\"-specific style due to the `<a>` HTML tag */\n",
       "\n",
       "#sk-container-id-2 a.estimator_doc_link {\n",
       "  float: right;\n",
       "  font-size: 1rem;\n",
       "  line-height: 1em;\n",
       "  font-family: monospace;\n",
       "  background-color: var(--sklearn-color-background);\n",
       "  border-radius: 1rem;\n",
       "  height: 1rem;\n",
       "  width: 1rem;\n",
       "  text-decoration: none;\n",
       "  /* unfitted */\n",
       "  color: var(--sklearn-color-unfitted-level-1);\n",
       "  border: var(--sklearn-color-unfitted-level-1) 1pt solid;\n",
       "}\n",
       "\n",
       "#sk-container-id-2 a.estimator_doc_link.fitted {\n",
       "  /* fitted */\n",
       "  border: var(--sklearn-color-fitted-level-1) 1pt solid;\n",
       "  color: var(--sklearn-color-fitted-level-1);\n",
       "}\n",
       "\n",
       "/* On hover */\n",
       "#sk-container-id-2 a.estimator_doc_link:hover {\n",
       "  /* unfitted */\n",
       "  background-color: var(--sklearn-color-unfitted-level-3);\n",
       "  color: var(--sklearn-color-background);\n",
       "  text-decoration: none;\n",
       "}\n",
       "\n",
       "#sk-container-id-2 a.estimator_doc_link.fitted:hover {\n",
       "  /* fitted */\n",
       "  background-color: var(--sklearn-color-fitted-level-3);\n",
       "}\n",
       "</style><div id=\"sk-container-id-2\" class=\"sk-top-container\"><div class=\"sk-text-repr-fallback\"><pre>RandomForestClassifier(random_state=42)</pre><b>In a Jupyter environment, please rerun this cell to show the HTML representation or trust the notebook. <br />On GitHub, the HTML representation is unable to render, please try loading this page with nbviewer.org.</b></div><div class=\"sk-container\" hidden><div class=\"sk-item\"><div class=\"sk-estimator fitted sk-toggleable\"><input class=\"sk-toggleable__control sk-hidden--visually\" id=\"sk-estimator-id-2\" type=\"checkbox\" checked><label for=\"sk-estimator-id-2\" class=\"sk-toggleable__label fitted sk-toggleable__label-arrow fitted\">&nbsp;&nbsp;RandomForestClassifier<a class=\"sk-estimator-doc-link fitted\" rel=\"noreferrer\" target=\"_blank\" href=\"https://scikit-learn.org/1.4/modules/generated/sklearn.ensemble.RandomForestClassifier.html\">?<span>Documentation for RandomForestClassifier</span></a><span class=\"sk-estimator-doc-link fitted\">i<span>Fitted</span></span></label><div class=\"sk-toggleable__content fitted\"><pre>RandomForestClassifier(random_state=42)</pre></div> </div></div></div></div>"
      ],
      "text/plain": [
       "RandomForestClassifier(random_state=42)"
      ]
     },
     "execution_count": 154,
     "metadata": {},
     "output_type": "execute_result"
    }
   ],
   "source": [
    "model = RandomForestClassifier(random_state=42)\n",
    "model.fit(X_train_resampled, y_train_resampled)"
   ]
  },
  {
   "cell_type": "markdown",
   "id": "3a51bd24-749f-478c-bf99-0e7aa0336875",
   "metadata": {},
   "source": [
    "* We initialize and train a Random Forest Classifier using the resampled training data (after SMOTE).\n",
    "* The model learns to classify based on the features provided.\n"
   ]
  },
  {
   "cell_type": "markdown",
   "id": "51d30cdf-b944-42ce-b869-4df19534183e",
   "metadata": {},
   "source": [
    "### Evaluating the Model"
   ]
  },
  {
   "cell_type": "code",
   "execution_count": 157,
   "id": "0e594b12-5570-4e18-919a-eb5fc8473ef3",
   "metadata": {},
   "outputs": [
    {
     "name": "stdout",
     "output_type": "stream",
     "text": [
      "Accuracy: 0.9969770253929867\n",
      "Precision: 0.9963144963144963\n",
      "Recall: 0.997539975399754\n",
      "F1 Score: 0.9969268592501537\n",
      "AUC-ROC: 0.9999100526082549\n"
     ]
    }
   ],
   "source": [
    "y_pred = model.predict(X_test_combined)\n",
    "y_pred_proba = model.predict_proba(X_test_combined)[:, 1]\n",
    "\n",
    "accuracy = accuracy_score(y_test, y_pred)\n",
    "precision = precision_score(y_test, y_pred)\n",
    "recall = recall_score(y_test, y_pred)\n",
    "f1 = f1_score(y_test, y_pred)\n",
    "roc_auc = roc_auc_score(y_test, y_pred_proba)\n",
    "\n",
    "print(\"Accuracy:\", accuracy)\n",
    "print(\"Precision:\", precision)\n",
    "print(\"Recall:\", recall)\n",
    "print(\"F1 Score:\", f1)\n",
    "print(\"AUC-ROC:\", roc_auc)"
   ]
  },
  {
   "cell_type": "markdown",
   "id": "17cef858-e838-49e9-82ca-179b8f32e239",
   "metadata": {},
   "source": [
    "* We evaluate the model on the test set using several metrics: \r\n",
    "* **Accuracy**: Proportion of correctly classified samples.\r\n",
    "* **Precision**: Ratio of true positives to all predicted positives.\r\n",
    "* **Recall**: Ratio of true positives to all actual positives.\r\n",
    "* **F1** **Score**: Harmonic mean of precision and recall.\r\n",
    "* **AUC-ROC**: Area under the receiver operating characteristic curve.rve.\r\n"
   ]
  },
  {
   "cell_type": "markdown",
   "id": "090c4d17-1cfc-40ef-a2d1-bd93fb0a3781",
   "metadata": {},
   "source": [
    "### Plotting Confusion Matrix"
   ]
  },
  {
   "cell_type": "code",
   "execution_count": 160,
   "id": "4b25a67b-9ea3-46e2-9a02-84b2400b8df4",
   "metadata": {},
   "outputs": [
    {
     "data": {
      "image/png": "[encoded data removed]",
      "text/plain": [
       "<Figure size 640x480 with 2 Axes>"
      ]
     },
     "metadata": {},
     "output_type": "display_data"
    }
   ],
   "source": [
    "cm = confusion_matrix(y_test, y_pred)\n",
    "cmd = ConfusionMatrixDisplay(confusion_matrix=cm, display_labels=['Fake', 'Real'])\n",
    "cmd.plot(cmap='Blues', values_format='d')\n",
    "plt.title(\"Confusion Matrix\")\n",
    "plt.show()"
   ]
  },
  {
   "cell_type": "markdown",
   "id": "b2bf6f50-89a2-45e4-bdc0-fc8b2c6b1324",
   "metadata": {},
   "source": [
    "* We plot the Confusion Matrix to visually represent the number of true positives, false positives, true negatives, and false negatives.\r",
    "* \tThis helps us assess the performance of the model on each class.\r\n"
   ]
  },
  {
   "cell_type": "markdown",
   "id": "8bed4da8-cdcd-4cc0-8203-2da1c5bbd9a6",
   "metadata": {},
   "source": [
    "### Plotting ROC Curve"
   ]
  },
  {
   "cell_type": "code",
   "execution_count": 163,
   "id": "a94ce9c9-8aa7-4c17-98fe-79e0ace24aba",
   "metadata": {},
   "outputs": [
    {
     "data": {
      "image/png": "[encoded data removed]",
      "text/plain": [
       "<Figure size 640x480 with 1 Axes>"
      ]
     },
     "metadata": {},
     "output_type": "display_data"
    }
   ],
   "source": [
    "fpr, tpr, _ = roc_curve(y_test, y_pred_proba)\n",
    "plt.figure()\n",
    "plt.plot(fpr, tpr, color='darkorange', lw=2, label=f'ROC curve (area = {roc_auc:.2f})')\n",
    "plt.plot([0, 1], [0, 1], color='navy', lw=2, linestyle='--')\n",
    "plt.xlabel('False Positive Rate')\n",
    "plt.ylabel('True Positive Rate')\n",
    "plt.title('Receiver Operating Characteristic (ROC) Curve')\n",
    "plt.legend(loc='lower right')\n",
    "plt.show()"
   ]
  },
  {
   "cell_type": "markdown",
   "id": "7614344e-7eea-48bd-8caf-79c64d8d9bc7",
   "metadata": {},
   "source": [
    "* The ROC Curve shows the trade-off between the true positive rate and false positive rate at various thresholds.\r",
    "* \tThe AUC (Area Under the Curve) gives us a measure of the model's ability to distinguish between classes.\r\n"
   ]
  },
  {
   "cell_type": "markdown",
   "id": "94983580-2567-457b-8c3f-8922b84530ca",
   "metadata": {},
   "source": [
    "### Plotting Precision-Recall Curve"
   ]
  },
  {
   "cell_type": "code",
   "execution_count": 166,
   "id": "7eab9356-e568-4590-9b33-28b9e2317dfe",
   "metadata": {},
   "outputs": [
    {
     "data": {
      "image/png": "[encoded data removed]",
      "text/plain": [
       "<Figure size 640x480 with 1 Axes>"
      ]
     },
     "metadata": {},
     "output_type": "display_data"
    }
   ],
   "source": [
    "fpr, tpr, _ = roc_curve(y_test, y_pred_proba)\n",
    "plt.figure()\n",
    "plt.plot(fpr, tpr, color='darkorange', lw=2, label=f'ROC curve (area = {roc_auc:.2f})')\n",
    "plt.plot([0, 1], [0, 1], color='navy', lw=2, linestyle='--')\n",
    "plt.xlabel('False Positive Rate')\n",
    "plt.ylabel('True Positive Rate')\n",
    "plt.title('Receiver Operating Characteristic (ROC) Curve')\n",
    "plt.legend(loc='lower right')\n",
    "plt.show()"
   ]
  },
  {
   "cell_type": "markdown",
   "id": "6009919a-dff9-441c-bb23-b52cb958856a",
   "metadata": {},
   "source": [
    "The Precision-Recall Curve provides another way to evaluate the performance of the model, particularly when dealing with imbalanced datasets."
   ]
  },
  {
   "cell_type": "markdown",
   "id": "b526f4ac-5b48-4d79-ac0e-f0576f3f3b00",
   "metadata": {},
   "source": [
    "### Feature Importance Analysis"
   ]
  },
  {
   "cell_type": "code",
   "execution_count": 169,
   "id": "a6a613db-45d9-4d51-bdc2-f29efce0ce1b",
   "metadata": {},
   "outputs": [
    {
     "data": {
      "image/png": "[encoded data removed]",
      "text/plain": [
       "<Figure size 1000x600 with 1 Axes>"
      ]
     },
     "metadata": {},
     "output_type": "display_data"
    }
   ],
   "source": [
    "feature_importances = model.feature_importances_\n",
    "indices = np.argsort(feature_importances)[::-1]\n",
    "\n",
    "plt.figure(figsize=(10,6))\n",
    "plt.title(\"Top 10 Feature Importances\")\n",
    "plt.bar(range(10), feature_importances[indices[:10]], align=\"center\")\n",
    "plt.xticks(range(10), [f\"Feature {i}\" for i in range(10)], rotation=45, ha='right')\n",
    "plt.tight_layout()\n",
    "plt.show()"
   ]
  },
  {
   "cell_type": "markdown",
   "id": "e27f0dcd-492c-40e7-a355-1e1d06468026",
   "metadata": {},
   "source": [
    "* Feature Importance gives insight into which features are most influential in making predictions.\r",
    "* \tWe plot the top 10 most important features\r\n"
   ]
  },
  {
   "cell_type": "code",
   "execution_count": 171,
   "id": "bad1dd24-86f2-4952-9b5f-13f53304c6bf",
   "metadata": {},
   "outputs": [
    {
     "name": "stdout",
     "output_type": "stream",
     "text": [
      "Results saved to result.txt\n"
     ]
    }
   ],
   "source": [
    "result_list = []\n",
    "\n",
    "for title, prediction in zip(X_test['title'], y_pred):\n",
    "    result_list.append(f'[\"{title}\", {prediction}]')\n",
    "\n",
    "output = '{\\n' + ',\\n'.join(result_list) + '\\n}'\n",
    "\n",
    "# Save to result.txt file\n",
    "with open(\"result.txt\", \"w\") as file:\n",
    "    file.write(output)\n",
    "\n",
    "print(\"Results saved to result.txt\")"
   ]
  }
 ],
 "metadata": {
  "kernelspec": {
   "display_name": "Python 3 (ipykernel)",
   "language": "python",
   "name": "python3"
  },
  "language_info": {
   "codemirror_mode": {
    "name": "ipython",
    "version": 3
   },
   "file_extension": ".py",
   "mimetype": "text/x-python",
   "name": "python",
   "nbconvert_exporter": "python",
   "pygments_lexer": "ipython3",
   "version": "3.12.4"
  }
 },
 "nbformat": 4,
 "nbformat_minor": 5
}
